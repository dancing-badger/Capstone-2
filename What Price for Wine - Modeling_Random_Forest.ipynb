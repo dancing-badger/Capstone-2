{
 "cells": [
  {
   "cell_type": "markdown",
   "id": "be805056",
   "metadata": {},
   "source": [
    "# Red Wine Flavor Profiles and their Relation to Cost and Quality\n",
    "\n",
    "**Problem Statement (Hypothesis)**\n",
    "Is it possible to reverse engineer the most popular or profitable flavor profiles in red wines so that a blend can be characterized that will rate a score above 92 and command a price that is at least 15% higher than the average price for similar blends?\n",
    "\n",
    "## The Scenario\n",
    "\n",
    "Our client has access to a number of red wine varietals, but is uncertain which blend of those varietals would produce the highest rated wines and the potential for above average selling prices for the wines produced. They believe that, given a deeper understanding of the connections between flavor profile and price/quality rating, it is possible to create a red wine blend that will be above average in both rated quality and retail selling price. Using data from Wine Enthusiast we will attempt to determine what flavor profiles score highest and have the highest price. The client will be able to use that information to produce a superior wine with a higher than average selling price.\n",
    "\n",
    "The aim of this project would be to use the combination of rating, prices, and textual reviews to try and answer the question: How does a winery know what flavor profiles to aim for in a given vintage? This could be useful in determining what flavor profiles are popular, and what flavor profiles wineries and winemakers should aim to create if they wish to satisfy current popular trends in red wine flavor profiles. This could not only inform winemakers about which varietals to combine in blends, but could also help inform wineries which varietals to plant, given that they have the proper climate for such varietals (which will not be part of this project).\n",
    "\n",
    "The criteria for success in this case is defining a minimum of one flavor profile that is shown to increase either the rating of the wine by >=2 points, or increase the price by a minimum of 10%. The scope of this analysis is only red wine varietals, and only those that have received a rating score and a textual review, and have a listed price. In this way we can determine if there is a correlation between the flavor profile characterized by professional wine tasters in the textual review and the rating/price.\n",
    "\n",
    "While the data does contain 130,000 rows, we might find ourselves constrained by N/A data in the rating, price, or review. It is also possible, though not likely, that the vast majority of the reviews are focused on varietals that don’t fit in our study i.e. white wines or dessert wines. If this is the case we could switch the focus of the study to white wine varietals, but given that red wine made up 46% of wine sales in 2020 and Cabernet Sauvignon is the most popular varietal in the U.S., this shouldn’t be necessary.\n",
    "\n",
    "The stakeholders could be the owner of a winery, a marketing manager at a winery, the winemaker, the person responsible for sourcing grapes (if they aren’t being grown on-site), and potentially the retail manager if there is also a retail sales area at the winery.\n",
    "\n",
    "Data sources: This project will use the Kaggle dataset from Wine Enthusiast (https://www.kaggle.com/datasets/zynicide/wine-reviews) includes over 130,000 rows of data and the following features; country, description, designation, #points, price, province/state, region_1, region_2, and the name of the reviewer. This dataset appears to have all the information we will need to conduct this study i.e. description, #points, price. That said, it does not contain a column for the varietal, but that can be extracted from the description through the terms that are used to describe red wines, such as ‘red’, ‘cabernet’, ‘tannin’ and the known flavor characteristics of red wines i.e. ‘blackberry’, ‘plum’, ‘cedar’, etc.\n",
    "\n",
    "## Table of Contents\n",
    "\n",
    "[- Train/test split](#train_test)\n",
    "\n",
    "[5. Modeling](#modeling)<br>\n",
    "[- Train the Model](#train)<br>\n",
    "[- Predictions on the Test Set](#predictions)\n",
    "\n",
    "[6. Comments](#comments)"
   ]
  },
  {
   "cell_type": "markdown",
   "id": "9705ebd5-390d-481b-a1c4-44b0070f0f99",
   "metadata": {},
   "source": [
    "<a id='Sourcing_and_loading'></a>"
   ]
  },
  {
   "cell_type": "markdown",
   "id": "79514112-bc64-4791-af8d-87bd05eb5d10",
   "metadata": {},
   "source": [
    "## 1. Train/Test Split"
   ]
  },
  {
   "cell_type": "markdown",
   "id": "f2f02eed-d663-46ea-b8ca-c28af62ce80b",
   "metadata": {},
   "source": [
    "<a id='train_test'></a>"
   ]
  },
  {
   "cell_type": "code",
   "execution_count": 1,
   "id": "90378859-4cfa-44c2-94b4-2e4328d1f1c7",
   "metadata": {},
   "outputs": [
    {
     "name": "stdout",
     "output_type": "stream",
     "text": [
      "<class 'pandas.core.frame.DataFrame'>\n",
      "RangeIndex: 530128 entries, 0 to 530127\n",
      "Data columns (total 7 columns):\n",
      " #   Column                Non-Null Count   Dtype  \n",
      "---  ------                --------------   -----  \n",
      " 0   Unnamed: 0.1          530128 non-null  int64  \n",
      " 1   Unnamed: 0            530128 non-null  int64  \n",
      " 2   points                530128 non-null  float64\n",
      " 3   price                 530128 non-null  float64\n",
      " 4   flavors               530128 non-null  object \n",
      " 5   consolidated_flavors  530128 non-null  object \n",
      " 6   description_cleaned   530128 non-null  object \n",
      "dtypes: float64(2), int64(2), object(3)\n",
      "memory usage: 28.3+ MB\n"
     ]
    }
   ],
   "source": [
    "#Importing dependencies\n",
    "import pandas as pd\n",
    "import matplotlib.pyplot as plt\n",
    "import seaborn as sns\n",
    "import numpy as np\n",
    "import os\n",
    "import glob\n",
    "from PIL import Image\n",
    "from sklearn.feature_extraction.text import TfidfVectorizer\n",
    "from wordcloud import WordCloud, STOPWORDS, ImageColorGenerator\n",
    "from sklearn.model_selection import train_test_split\n",
    "from scipy.sparse import hstack, csr_matrix\n",
    "\n",
    "#Loading data set\n",
    "df_red_wine = pd.read_csv(r'C:\\Users\\money\\Desktop\\Springboard\\Capstone 2\\Capstone-2\\df_red_wine.csv', low_memory=False)\n",
    "df_red_wine.info()"
   ]
  },
  {
   "cell_type": "code",
   "execution_count": 2,
   "id": "f87f8ed1-ee12-4a2b-aabd-3419f7631487",
   "metadata": {},
   "outputs": [],
   "source": [
    "#Get a random subsample of df_red_wine that is 30% in size\n",
    "sub_df_red_wine = df_red_wine.sample(frac=0.3, replace=True, random_state=1)"
   ]
  },
  {
   "cell_type": "code",
   "execution_count": 3,
   "id": "07e01235-0678-4bad-9e95-f08d714f20d0",
   "metadata": {},
   "outputs": [],
   "source": [
    "#Create a TF-IDF Vectorizer Instance\n",
    "tfidf = TfidfVectorizer(max_features=1000)\n",
    "#Fit and Transform the Data\n",
    "tfidf_matrix = tfidf.fit_transform(sub_df_red_wine['description_cleaned'])\n",
    "#Convert to DataFrame for viewing and manipulation\n",
    "df_tfidf = pd.DataFrame(tfidf_matrix.toarray(), columns=tfidf.get_feature_names_out())"
   ]
  },
  {
   "cell_type": "code",
   "execution_count": 4,
   "id": "f566de7b-24ee-45a8-996c-92ac3bbba41b",
   "metadata": {},
   "outputs": [],
   "source": [
    "#Now I have to create sub_df_red_wine using X_subset and y_subset\n",
    "# Ensure that y_subset is a Series with the same index as X_subset\n",
    "#y_subset = pd.Series(y_subset, index=X_subset.index, name='price')\n",
    "\n",
    "# Combine X_subset with y_subset\n",
    "#sub_df_red_wine = pd.concat([X_subset, y_subset], axis=1)"
   ]
  },
  {
   "cell_type": "code",
   "execution_count": 5,
   "id": "b76320ef-a5e7-48e3-858b-ee01dfd74bb5",
   "metadata": {},
   "outputs": [],
   "source": [
    "# Define target variable and features\n",
    "# 'price' is the target variable\n",
    "X = sub_df_red_wine.drop(['price', 'flavors', 'description_cleaned'], axis=1)  # Drop non-numeric or redundant columns as necessary\n",
    "y = sub_df_red_wine['price']\n",
    "\n",
    "# Function to convert a list into a string format\n",
    "def list_to_string(lst):\n",
    "    if isinstance(lst, list):\n",
    "        return ','.join(lst)\n",
    "    return lst\n",
    "\n",
    "# Apply this function to your list-like columns\n",
    "X['consolidated_flavors'] = X['consolidated_flavors'].apply(list_to_string)\n",
    "\n",
    "# Apply one-hot encoding and ensure the result is sparse\n",
    "X_encoded = pd.get_dummies(X, columns=['consolidated_flavors'], dtype='int8')\n",
    "\n",
    "# Convert the entire DataFrame to a sparse DataFrame\n",
    "X_sparse = csr_matrix(X_encoded)\n",
    "\n",
    "# Combine the sparse feature data with the sparse TF-IDF data\n",
    "# 'tfidf_matrix' is the sparse matrix output from TfidfVectorizer\n",
    "X_combined = hstack([X_sparse, tfidf_matrix])"
   ]
  },
  {
   "cell_type": "code",
   "execution_count": 6,
   "id": "4d761a22-d243-4644-91a7-8d045c4219dd",
   "metadata": {},
   "outputs": [
    {
     "data": {
      "text/plain": [
       "((127230, 16023), (31808, 16023), (127230,), (31808,))"
      ]
     },
     "execution_count": 6,
     "metadata": {},
     "output_type": "execute_result"
    }
   ],
   "source": [
    "# Splitting the dataset into training and testing sets\n",
    "X_train, X_test, y_train, y_test = train_test_split(X_combined, y, test_size=0.2, random_state=42)\n",
    "\n",
    "# Checking the shapes of the splits\n",
    "X_train.shape, X_test.shape, y_train.shape, y_test.shape"
   ]
  },
  {
   "cell_type": "markdown",
   "id": "0cb79a1d-a0e0-4971-8cbe-c9d79bad7477",
   "metadata": {},
   "source": [
    "## 5. Modeling"
   ]
  },
  {
   "cell_type": "markdown",
   "id": "90a4ad95-c1d3-46cc-8953-7f311ba423f3",
   "metadata": {},
   "source": [
    "<a id='modeling'></a>"
   ]
  },
  {
   "cell_type": "markdown",
   "id": "da5e6c93-591c-4e61-bc9d-70718118a40f",
   "metadata": {},
   "source": [
    "### 5a. Train the Model"
   ]
  },
  {
   "cell_type": "markdown",
   "id": "32470a3c-df05-4cb8-9ce4-dfa83223f0c3",
   "metadata": {},
   "source": [
    "<a id='train'></a>"
   ]
  },
  {
   "cell_type": "code",
   "execution_count": 7,
   "id": "ddf212f6-669c-4dc0-9b20-c9008ca21dea",
   "metadata": {},
   "outputs": [
    {
     "data": {
      "text/html": [
       "<style>#sk-container-id-1 {color: black;}#sk-container-id-1 pre{padding: 0;}#sk-container-id-1 div.sk-toggleable {background-color: white;}#sk-container-id-1 label.sk-toggleable__label {cursor: pointer;display: block;width: 100%;margin-bottom: 0;padding: 0.3em;box-sizing: border-box;text-align: center;}#sk-container-id-1 label.sk-toggleable__label-arrow:before {content: \"▸\";float: left;margin-right: 0.25em;color: #696969;}#sk-container-id-1 label.sk-toggleable__label-arrow:hover:before {color: black;}#sk-container-id-1 div.sk-estimator:hover label.sk-toggleable__label-arrow:before {color: black;}#sk-container-id-1 div.sk-toggleable__content {max-height: 0;max-width: 0;overflow: hidden;text-align: left;background-color: #f0f8ff;}#sk-container-id-1 div.sk-toggleable__content pre {margin: 0.2em;color: black;border-radius: 0.25em;background-color: #f0f8ff;}#sk-container-id-1 input.sk-toggleable__control:checked~div.sk-toggleable__content {max-height: 200px;max-width: 100%;overflow: auto;}#sk-container-id-1 input.sk-toggleable__control:checked~label.sk-toggleable__label-arrow:before {content: \"▾\";}#sk-container-id-1 div.sk-estimator input.sk-toggleable__control:checked~label.sk-toggleable__label {background-color: #d4ebff;}#sk-container-id-1 div.sk-label input.sk-toggleable__control:checked~label.sk-toggleable__label {background-color: #d4ebff;}#sk-container-id-1 input.sk-hidden--visually {border: 0;clip: rect(1px 1px 1px 1px);clip: rect(1px, 1px, 1px, 1px);height: 1px;margin: -1px;overflow: hidden;padding: 0;position: absolute;width: 1px;}#sk-container-id-1 div.sk-estimator {font-family: monospace;background-color: #f0f8ff;border: 1px dotted black;border-radius: 0.25em;box-sizing: border-box;margin-bottom: 0.5em;}#sk-container-id-1 div.sk-estimator:hover {background-color: #d4ebff;}#sk-container-id-1 div.sk-parallel-item::after {content: \"\";width: 100%;border-bottom: 1px solid gray;flex-grow: 1;}#sk-container-id-1 div.sk-label:hover label.sk-toggleable__label {background-color: #d4ebff;}#sk-container-id-1 div.sk-serial::before {content: \"\";position: absolute;border-left: 1px solid gray;box-sizing: border-box;top: 0;bottom: 0;left: 50%;z-index: 0;}#sk-container-id-1 div.sk-serial {display: flex;flex-direction: column;align-items: center;background-color: white;padding-right: 0.2em;padding-left: 0.2em;position: relative;}#sk-container-id-1 div.sk-item {position: relative;z-index: 1;}#sk-container-id-1 div.sk-parallel {display: flex;align-items: stretch;justify-content: center;background-color: white;position: relative;}#sk-container-id-1 div.sk-item::before, #sk-container-id-1 div.sk-parallel-item::before {content: \"\";position: absolute;border-left: 1px solid gray;box-sizing: border-box;top: 0;bottom: 0;left: 50%;z-index: -1;}#sk-container-id-1 div.sk-parallel-item {display: flex;flex-direction: column;z-index: 1;position: relative;background-color: white;}#sk-container-id-1 div.sk-parallel-item:first-child::after {align-self: flex-end;width: 50%;}#sk-container-id-1 div.sk-parallel-item:last-child::after {align-self: flex-start;width: 50%;}#sk-container-id-1 div.sk-parallel-item:only-child::after {width: 0;}#sk-container-id-1 div.sk-dashed-wrapped {border: 1px dashed gray;margin: 0 0.4em 0.5em 0.4em;box-sizing: border-box;padding-bottom: 0.4em;background-color: white;}#sk-container-id-1 div.sk-label label {font-family: monospace;font-weight: bold;display: inline-block;line-height: 1.2em;}#sk-container-id-1 div.sk-label-container {text-align: center;}#sk-container-id-1 div.sk-container {/* jupyter's `normalize.less` sets `[hidden] { display: none; }` but bootstrap.min.css set `[hidden] { display: none !important; }` so we also need the `!important` here to be able to override the default hidden behavior on the sphinx rendered scikit-learn.org. See: https://github.com/scikit-learn/scikit-learn/issues/21755 */display: inline-block !important;position: relative;}#sk-container-id-1 div.sk-text-repr-fallback {display: none;}</style><div id=\"sk-container-id-1\" class=\"sk-top-container\"><div class=\"sk-text-repr-fallback\"><pre>RandomForestRegressor(random_state=42)</pre><b>In a Jupyter environment, please rerun this cell to show the HTML representation or trust the notebook. <br />On GitHub, the HTML representation is unable to render, please try loading this page with nbviewer.org.</b></div><div class=\"sk-container\" hidden><div class=\"sk-item\"><div class=\"sk-estimator sk-toggleable\"><input class=\"sk-toggleable__control sk-hidden--visually\" id=\"sk-estimator-id-1\" type=\"checkbox\" checked><label for=\"sk-estimator-id-1\" class=\"sk-toggleable__label sk-toggleable__label-arrow\">RandomForestRegressor</label><div class=\"sk-toggleable__content\"><pre>RandomForestRegressor(random_state=42)</pre></div></div></div></div></div>"
      ],
      "text/plain": [
       "RandomForestRegressor(random_state=42)"
      ]
     },
     "execution_count": 7,
     "metadata": {},
     "output_type": "execute_result"
    }
   ],
   "source": [
    "from sklearn.ensemble import RandomForestRegressor\n",
    "\n",
    "# Initialize the Random Forest model\n",
    "model = RandomForestRegressor(random_state=42, n_estimators=100)\n",
    "\n",
    "# Train the model on the training data\n",
    "model.fit(X_train, y_train)"
   ]
  },
  {
   "cell_type": "markdown",
   "id": "26c39763-d7a6-41c6-94a7-5693f0492986",
   "metadata": {},
   "source": [
    "### 5b. Predictions on the Test Set"
   ]
  },
  {
   "cell_type": "markdown",
   "id": "509abdf7-f9da-48dd-b92d-e82d82a4baa3",
   "metadata": {},
   "source": [
    "<a id='predictions'></a>"
   ]
  },
  {
   "cell_type": "code",
   "execution_count": 8,
   "id": "48693309-1ecf-4551-9782-5e5cb3733717",
   "metadata": {},
   "outputs": [],
   "source": [
    "# Make predictions on the test data\n",
    "y_pred = model.predict(X_test)"
   ]
  },
  {
   "cell_type": "code",
   "execution_count": 9,
   "id": "10f9f9fc-9d5f-4fd6-907a-cedcc3dfa6d3",
   "metadata": {},
   "outputs": [
    {
     "name": "stdout",
     "output_type": "stream",
     "text": [
      "Adjusted R-squared: 0.6937151503731569\n",
      "Mean Absolute Percent Error (MAPE): 126.74085690365023%\n"
     ]
    },
    {
     "data": {
      "image/png": "[encoded data removed]",
      "text/plain": [
       "<Figure size 640x480 with 1 Axes>"
      ]
     },
     "metadata": {},
     "output_type": "display_data"
    },
    {
     "data": {
      "image/png": "[encoded data removed]",
      "text/plain": [
       "<Figure size 640x480 with 1 Axes>"
      ]
     },
     "metadata": {},
     "output_type": "display_data"
    }
   ],
   "source": [
    "from sklearn.metrics import r2_score, mean_squared_error\n",
    "\n",
    "# Calculate metrics\n",
    "r2 = r2_score(y_test, y_pred)\n",
    "adjusted_r2 = 1 - (1-r2)*(len(y_test)-1)/(len(y_test)-X_test.shape[1]-1)\n",
    "mape = np.mean(np.abs((y_test - y_pred) / y_test)) * 100\n",
    "\n",
    "print(f\"Adjusted R-squared: {adjusted_r2}\")\n",
    "print(f\"Mean Absolute Percent Error (MAPE): {mape}%\")\n",
    "\n",
    "# Plotting Actual vs Predicted values\n",
    "plt.scatter(y_test, y_pred)\n",
    "plt.xlabel('Actual')\n",
    "plt.ylabel('Predicted')\n",
    "plt.plot([y_test.min(), y_test.max()], [y_test.min(), y_test.max()], 'k--', lw=2)  # 45-degree line\n",
    "plt.title('Actual vs Predicted')\n",
    "plt.show()\n",
    "\n",
    "# Histogram of Residuals\n",
    "residuals = y_test - y_pred\n",
    "plt.hist(residuals, bins=20)\n",
    "plt.title('Distribution of Residuals')\n",
    "plt.xlabel('Residual')\n",
    "plt.ylabel('Frequency')\n",
    "plt.show()"
   ]
  },
  {
   "cell_type": "markdown",
   "id": "990cf2da-3e46-4a43-9300-d128f8f1c17f",
   "metadata": {},
   "source": [
    "## Comments"
   ]
  },
  {
   "cell_type": "markdown",
   "id": "edc21499-53f6-4e76-8b09-3b3923600231",
   "metadata": {},
   "source": [
    "<a id='comments'></a>"
   ]
  },
  {
   "cell_type": "markdown",
   "id": "8f932fa6-579c-4ab8-8eaf-7bdbdb4417f6",
   "metadata": {},
   "source": [
    "The metrics from my Random Forest model are showing an improvement compared to the previous model (simple linear regression), but there's still room for interpretation and potential improvement. The Adjusted R-squared of 0.69 indicates that approximately 69% of the variability in my target variable (price) can be explained by the model. This is a decent value, and indicates that my model has a decent fit to the data, but whether it's good enough depends on the specific context and domain of the problem. In many domains, an Adjusted R-squared of 0.69 would be considered quite good.\r\n",
    "\r\n",
    "That said, a MAPE of 126.74% is quite high, indicating that, on average, the model's predictions are off by about 126.74% from the actual value. This suggests that while the model may capture the general trend (as indicated by the Adjusted R-squared), its predictions are not very accurate on an individual level. In other words, it indicates that there might be some predictions that are very far from their actual values. This could be due to outliers in the data, or it might suggest that the model's predictions are not reliable on a more granular level.\r\n",
    "\r\n",
    "Here are some potential further steps:\r\n",
    "Check for outliers, especially in the target variable (price), and consider how these are handled.\r\n",
    "Explore Feature Importance Analysis to get some ideas about what features are driving the predictions and how I might be able to improve the model.\r\n",
    "Ensure the model is not overfitting. This could be accomplished by simplifying the model or by using techniques like cross-validation to get a better estimate of how the model will perform on unseen data.\r\n",
    "Consider tuning the hyperparameters of the Random Forest model (like n_estimators, max_depth, min_samples_split, etc.) to see if I can improve the performance.a."
   ]
  },
  {
   "cell_type": "code",
   "execution_count": null,
   "id": "d5dbd10d-4776-4057-ac5d-9af2f1d2cfce",
   "metadata": {},
   "outputs": [],
   "source": []
  }
 ],
 "metadata": {
  "kernelspec": {
   "display_name": "Python 3 (ipykernel)",
   "language": "python",
   "name": "python3"
  },
  "language_info": {
   "codemirror_mode": {
    "name": "ipython",
    "version": 3
   },
   "file_extension": ".py",
   "mimetype": "text/x-python",
   "name": "python",
   "nbconvert_exporter": "python",
   "pygments_lexer": "ipython3",
   "version": "3.10.13"
  }
 },
 "nbformat": 4,
 "nbformat_minor": 5
}
